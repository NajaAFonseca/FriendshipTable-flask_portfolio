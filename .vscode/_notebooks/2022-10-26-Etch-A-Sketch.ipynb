{
 "cells": [
  {
   "cell_type": "code",
   "execution_count": null,
   "metadata": {},
   "outputs": [],
   "source": [
    "import turtle\n",
    "green = turtle.Turtle()\n",
    "screen = turtle.Screen()\n",
    "green.goto(0,0)\n",
    "def up():\n",
    "  green.forward(10)\n",
    "def down():\n",
    "  green.backward(10)\n",
    "def right():\n",
    "  green.right(5)\n",
    "def left():\n",
    "  green.left(5)\n",
    "def penup():\n",
    "  green.penup()\n",
    "def pendown():\n",
    "  green.pendown()\n",
    "screen.onkey(up,'Up')\n",
    "screen.onkey(down,'Down')\n",
    "screen.onkey(right,'Right')\n",
    "screen.onkey(left,'Left')\n",
    "screen.onkey(penup,'u')\n",
    "screen.onkey(pendown,'d')\n",
    "\n",
    "screen.listen()"
   ]
  }
 ],
 "metadata": {
  "language_info": {
   "name": "python"
  },
  "orig_nbformat": 4
 },
 "nbformat": 4,
 "nbformat_minor": 2
}
